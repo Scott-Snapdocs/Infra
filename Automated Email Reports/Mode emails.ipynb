{
 "cells": [
  {
   "cell_type": "markdown",
   "metadata": {},
   "source": [
    "Built following the documentation from Mode's API (http://developer.modeanalytics.com/) and a Mandrill API tutorial (http://python.mfamt.org/content/recipes/apis-and-scraping/sending-a-mandrill-email/).\n",
    "\n",
    "Future work needed to productionalize:\n",
    "- Use Mode API to refresh the report before pulling it\n",
    "- Use Mandrill API to include an attachment\n",
    "- Set up a way for non-technical users to modify from/to/subject/report variables\n",
    "- Put on a server\n",
    "- Set up a cadence"
   ]
  },
  {
   "cell_type": "code",
   "execution_count": 1,
   "metadata": {
    "collapsed": true
   },
   "outputs": [],
   "source": [
    "import requests #for api calling\n",
    "import json #for data manipulation\n",
    "import os #for calling api token/pass\n",
    "import mandrill #for sending email"
   ]
  },
  {
   "cell_type": "code",
   "execution_count": 2,
   "metadata": {
    "collapsed": true
   },
   "outputs": [],
   "source": [
    "'''\n",
    "    Report params\n",
    "'''\n",
    "\n",
    "account = 'snapdocs' #2797\n",
    "report = 'd656f78eb891' #random report I pulled : https://modeanalytics.com/snapdocs/reports/d656f78eb891\n",
    "report_url = 'https://modeanalytics.com/api/{a}/reports/{r}'.format(a=account, r=report)\n",
    "#note: the report must be freshly run, the image will only be accessible shortly thereafter\n",
    "#there is a way to use the API to refresh the report, then listen for when it's done\n",
    "\n",
    "mode_token = os.environ['MODE_TOKEN']\n",
    "mode_token_password = os.environ['MODE_TOKEN_PASSWORD']\n",
    "\n",
    "mandrill_api_key = os.environ['MANDRILL_API_KEY']"
   ]
  },
  {
   "cell_type": "code",
   "execution_count": 13,
   "metadata": {
    "collapsed": true
   },
   "outputs": [],
   "source": [
    "'''\n",
    "    Make Mode API call\n",
    "'''\n",
    "response = requests.get(report_url, auth=(mode_token, mode_token_password))\n",
    "rj = response.json()"
   ]
  },
  {
   "cell_type": "code",
   "execution_count": 14,
   "metadata": {
    "collapsed": true
   },
   "outputs": [],
   "source": [
    "'''\n",
    "    Images to show in the email\n",
    "'''\n",
    "graph_img = rj['web_preview_image']\n",
    "logo_img = 'https://snapdocs-storage.s3.amazonaws.com/uploads/company/logo/11/thumb_unnamed.png'"
   ]
  },
  {
   "cell_type": "code",
   "execution_count": 15,
   "metadata": {},
   "outputs": [],
   "source": [
    "'''\n",
    "    Set up Mandrill connection\n",
    "'''\n",
    "mandrill_client = mandrill.Mandrill(mandrill_api_key)"
   ]
  },
  {
   "cell_type": "code",
   "execution_count": 16,
   "metadata": {},
   "outputs": [],
   "source": [
    "'''\n",
    "    Message meta-details\n",
    "'''\n",
    "from_email = 'scott@snapdocs.com'\n",
    "from_name = 'Scott/Data lead'\n",
    "to_email = 'scott@breuds.com'\n",
    "to_name = 'Scott @ Breuds Title Agency'\n",
    "subject = 'Your weekly report from Snapdocs'"
   ]
  },
  {
   "cell_type": "code",
   "execution_count": 17,
   "metadata": {},
   "outputs": [],
   "source": [
    "'''\n",
    "    Compose message\n",
    "'''\n",
    "message = {\n",
    "\t'from_email': from_email,\n",
    "\t'from_name': from_name,\n",
    "\t'to': [{\n",
    "\t\t'email': to_email,\n",
    "\t\t'name': to_name,\n",
    "\t\t'type': 'to'\n",
    "\t\t}],\n",
    "\t'subject': subject,\n",
    "    'html': '<img src={l} alt=\"logo\"/> <p/> <img src={g} alt=\"My image\" />'.format(l=logo_img, g=graph_img)\n",
    "\t}"
   ]
  },
  {
   "cell_type": "code",
   "execution_count": 18,
   "metadata": {
    "collapsed": true
   },
   "outputs": [],
   "source": [
    "'''\n",
    "    Send email\n",
    "'''\n",
    "result = mandrill_client.messages.send(message=message)"
   ]
  }
 ],
 "metadata": {
  "kernelspec": {
   "display_name": "Python 3",
   "language": "python",
   "name": "python3"
  },
  "language_info": {
   "codemirror_mode": {
    "name": "ipython",
    "version": 3
   },
   "file_extension": ".py",
   "mimetype": "text/x-python",
   "name": "python",
   "nbconvert_exporter": "python",
   "pygments_lexer": "ipython3",
   "version": "3.6.2"
  }
 },
 "nbformat": 4,
 "nbformat_minor": 2
}
